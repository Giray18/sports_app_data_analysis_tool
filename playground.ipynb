{
 "cells": [
  {
   "cell_type": "code",
   "execution_count": 1,
   "metadata": {},
   "outputs": [],
   "source": [
    "import pandas as pd\n",
    "import numpy as np\n",
    "import json\n",
    "import re\n",
    "import dat\n",
    "from collections import defaultdict\n",
    "import stats_finder"
   ]
  },
  {
   "cell_type": "code",
   "execution_count": 11,
   "metadata": {},
   "outputs": [
    {
     "name": "stdout",
     "output_type": "stream",
     "text": [
      "C:/Users/MeliaMuyo/Desktop/ALL/GIRAY/premiership/premier_league_analysis\\epl_2022_2023_07_02_2023.json\n"
     ]
    }
   ],
   "source": [
    "df = dat.read_df_json('C:/Users/MeliaMuyo/Desktop/ALL/GIRAY/premiership/premier_league_analysis/')\n",
    "# df = df.transpose()\n",
    "team = 'Arsenal'.lower()\n",
    "player = 'Ben White'.lower()"
   ]
  },
  {
   "cell_type": "code",
   "execution_count": 12,
   "metadata": {},
   "outputs": [],
   "source": [
    "game_ids = df.index.to_list()\n",
    "pattern_player = re.compile(rf\"{player}\", re.IGNORECASE)\n",
    "# Getting team match results and team scores in matches\n",
    "\n",
    "home_game_starts = [df[\"team1_startings\"][game_id] for game_id in game_ids if player in df['team1_startings'][game_id]]\n",
    "# home_game_starts = list(map(lambda x: x.lower(), home_game_starts))\n",
    "home_game_starts = sum([i.count(player) for i in home_game_starts])\n",
    "away_game_starts = [df[\"team2_startings\"][game_id] for game_id in game_ids if player in df['team2_startings'][game_id]]\n",
    "# away_game_starts = list(map(lambda x: x.lower(), away_game_starts))\n",
    "away_game_starts = sum([i.count(player) for i in away_game_starts])\n",
    "total_line_ups = home_game_starts + away_game_starts\n",
    "# for games in team_scores:\n",
    "#     for goal_num in games:\n",
    "#         goals += int(goal_num)"
   ]
  },
  {
   "cell_type": "code",
   "execution_count": 14,
   "metadata": {},
   "outputs": [
    {
     "name": "stdout",
     "output_type": "stream",
     "text": [
      "20\n"
     ]
    }
   ],
   "source": [
    "print(total_line_ups)"
   ]
  },
  {
   "cell_type": "code",
   "execution_count": 6,
   "metadata": {},
   "outputs": [],
   "source": [
    "shots = 0\n",
    "    # Looping through team scores to sum team scores in games\n",
    "for g_shots in home_game_shoots:\n",
    "    shots += g_shots"
   ]
  },
  {
   "cell_type": "code",
   "execution_count": 2,
   "metadata": {},
   "outputs": [
    {
     "name": "stdout",
     "output_type": "stream",
     "text": [
      "C:/Users/MeliaMuyo/Desktop/ALL/GIRAY/premiership/premier_league_analysis\\epl_2022_2023_07_02_2023.json\n"
     ]
    }
   ],
   "source": [
    "baban = stats_finder.goal_analyzer(dat.read_df_json('C:/Users/MeliaMuyo/Desktop/ALL/GIRAY/premiership/premier_league_analysis/'),'Arsenal')"
   ]
  },
  {
   "cell_type": "code",
   "execution_count": 3,
   "metadata": {},
   "outputs": [
    {
     "data": {
      "text/plain": [
       "45"
      ]
     },
     "execution_count": 3,
     "metadata": {},
     "output_type": "execute_result"
    }
   ],
   "source": [
    "baban.total_goals()"
   ]
  },
  {
   "cell_type": "code",
   "execution_count": 4,
   "metadata": {},
   "outputs": [
    {
     "data": {
      "text/plain": [
       "'7.87%'"
      ]
     },
     "execution_count": 4,
     "metadata": {},
     "output_type": "execute_result"
    }
   ],
   "source": [
    "baban.total_goal_perc()"
   ]
  },
  {
   "cell_type": "code",
   "execution_count": 5,
   "metadata": {},
   "outputs": [
    {
     "ename": "TypeError",
     "evalue": "list indices must be integers or slices, not str",
     "output_type": "error",
     "traceback": [
      "\u001b[1;31m---------------------------------------------------------------------------\u001b[0m",
      "\u001b[1;31mTypeError\u001b[0m                                 Traceback (most recent call last)",
      "Cell \u001b[1;32mIn[5], line 1\u001b[0m\n\u001b[1;32m----> 1\u001b[0m \u001b[43mbaban\u001b[49m\u001b[38;5;241;43m.\u001b[39;49m\u001b[43mtotal_shots\u001b[49m\u001b[43m(\u001b[49m\u001b[43m)\u001b[49m\n",
      "File \u001b[1;32mc:\\Users\\MeliaMuyo\\Desktop\\ALL\\GIRAY\\premiership\\premier_league_analysis\\stats_finder\\league_analyzer.py:93\u001b[0m, in \u001b[0;36mgoal_analyzer.total_shots\u001b[1;34m(self)\u001b[0m\n\u001b[0;32m     91\u001b[0m game_ids \u001b[39m=\u001b[39m \u001b[39mself\u001b[39m\u001b[39m.\u001b[39mdf\u001b[39m.\u001b[39mindex\u001b[39m.\u001b[39mto_list()\n\u001b[0;32m     92\u001b[0m \u001b[39m# Getting team match results and team scores in matches\u001b[39;00m\n\u001b[1;32m---> 93\u001b[0m home_game_shoots \u001b[39m=\u001b[39m [\u001b[39mint\u001b[39m(\u001b[39mself\u001b[39m\u001b[39m.\u001b[39mdf[\u001b[39m\"\u001b[39m\u001b[39mteam1_stat\u001b[39m\u001b[39m\"\u001b[39m][game_id][\u001b[39m'\u001b[39m\u001b[39mshots_on_target\u001b[39m\u001b[39m'\u001b[39m]) \u001b[39mfor\u001b[39;00m game_id \u001b[39min\u001b[39;00m game_ids \u001b[39mif\u001b[39;00m \u001b[39mself\u001b[39m\u001b[39m.\u001b[39mteam \u001b[39min\u001b[39;00m \u001b[39mself\u001b[39m\u001b[39m.\u001b[39mdf[\u001b[39m'\u001b[39m\u001b[39mevent\u001b[39m\u001b[39m'\u001b[39m][game_id][\u001b[39m0\u001b[39m]\u001b[39m.\u001b[39mlower()]\n\u001b[0;32m     94\u001b[0m away_game_shoots \u001b[39m=\u001b[39m [\u001b[39mint\u001b[39m(\u001b[39mself\u001b[39m\u001b[39m.\u001b[39mdf[\u001b[39m\"\u001b[39m\u001b[39mteam2_stat\u001b[39m\u001b[39m\"\u001b[39m][game_id][\u001b[39m'\u001b[39m\u001b[39mshots_on_target\u001b[39m\u001b[39m'\u001b[39m]) \u001b[39mfor\u001b[39;00m game_id \u001b[39min\u001b[39;00m game_ids \u001b[39mif\u001b[39;00m \u001b[39mself\u001b[39m\u001b[39m.\u001b[39mteam \u001b[39min\u001b[39;00m \u001b[39mself\u001b[39m\u001b[39m.\u001b[39mdf[\u001b[39m'\u001b[39m\u001b[39mevent\u001b[39m\u001b[39m'\u001b[39m][game_id][\u001b[39m0\u001b[39m]\u001b[39m.\u001b[39mlower()]\n\u001b[0;32m     95\u001b[0m home_game_shoots\u001b[39m.\u001b[39mextend(away_game_shoots)\n",
      "File \u001b[1;32mc:\\Users\\MeliaMuyo\\Desktop\\ALL\\GIRAY\\premiership\\premier_league_analysis\\stats_finder\\league_analyzer.py:93\u001b[0m, in \u001b[0;36m<listcomp>\u001b[1;34m(.0)\u001b[0m\n\u001b[0;32m     91\u001b[0m game_ids \u001b[39m=\u001b[39m \u001b[39mself\u001b[39m\u001b[39m.\u001b[39mdf\u001b[39m.\u001b[39mindex\u001b[39m.\u001b[39mto_list()\n\u001b[0;32m     92\u001b[0m \u001b[39m# Getting team match results and team scores in matches\u001b[39;00m\n\u001b[1;32m---> 93\u001b[0m home_game_shoots \u001b[39m=\u001b[39m [\u001b[39mint\u001b[39m(\u001b[39mself\u001b[39;49m\u001b[39m.\u001b[39;49mdf[\u001b[39m\"\u001b[39;49m\u001b[39mteam1_stat\u001b[39;49m\u001b[39m\"\u001b[39;49m][game_id][\u001b[39m'\u001b[39;49m\u001b[39mshots_on_target\u001b[39;49m\u001b[39m'\u001b[39;49m]) \u001b[39mfor\u001b[39;00m game_id \u001b[39min\u001b[39;00m game_ids \u001b[39mif\u001b[39;00m \u001b[39mself\u001b[39m\u001b[39m.\u001b[39mteam \u001b[39min\u001b[39;00m \u001b[39mself\u001b[39m\u001b[39m.\u001b[39mdf[\u001b[39m'\u001b[39m\u001b[39mevent\u001b[39m\u001b[39m'\u001b[39m][game_id][\u001b[39m0\u001b[39m]\u001b[39m.\u001b[39mlower()]\n\u001b[0;32m     94\u001b[0m away_game_shoots \u001b[39m=\u001b[39m [\u001b[39mint\u001b[39m(\u001b[39mself\u001b[39m\u001b[39m.\u001b[39mdf[\u001b[39m\"\u001b[39m\u001b[39mteam2_stat\u001b[39m\u001b[39m\"\u001b[39m][game_id][\u001b[39m'\u001b[39m\u001b[39mshots_on_target\u001b[39m\u001b[39m'\u001b[39m]) \u001b[39mfor\u001b[39;00m game_id \u001b[39min\u001b[39;00m game_ids \u001b[39mif\u001b[39;00m \u001b[39mself\u001b[39m\u001b[39m.\u001b[39mteam \u001b[39min\u001b[39;00m \u001b[39mself\u001b[39m\u001b[39m.\u001b[39mdf[\u001b[39m'\u001b[39m\u001b[39mevent\u001b[39m\u001b[39m'\u001b[39m][game_id][\u001b[39m0\u001b[39m]\u001b[39m.\u001b[39mlower()]\n\u001b[0;32m     95\u001b[0m home_game_shoots\u001b[39m.\u001b[39mextend(away_game_shoots)\n",
      "\u001b[1;31mTypeError\u001b[0m: list indices must be integers or slices, not str"
     ]
    }
   ],
   "source": [
    "baban.total_shots()"
   ]
  },
  {
   "cell_type": "code",
   "execution_count": 7,
   "metadata": {},
   "outputs": [
    {
     "name": "stdout",
     "output_type": "stream",
     "text": [
      "C:/Users/MeliaMuyo/Desktop/ALL/GIRAY/premiership/premier_league_analysis\\epl_2022_2023_07_02_2023.json\n"
     ]
    },
    {
     "ename": "TypeError",
     "evalue": "shot_accuracy() takes 1 positional argument but 4 were given",
     "output_type": "error",
     "traceback": [
      "\u001b[1;31m---------------------------------------------------------------------------\u001b[0m",
      "\u001b[1;31mTypeError\u001b[0m                                 Traceback (most recent call last)",
      "Cell \u001b[1;32mIn[7], line 1\u001b[0m\n\u001b[1;32m----> 1\u001b[0m \u001b[43mbaban\u001b[49m\u001b[38;5;241;43m.\u001b[39;49m\u001b[43mshot_accuracy\u001b[49m\u001b[43m(\u001b[49m\u001b[43mdat\u001b[49m\u001b[38;5;241;43m.\u001b[39;49m\u001b[43mread_df_json\u001b[49m\u001b[43m(\u001b[49m\u001b[38;5;124;43m'\u001b[39;49m\u001b[38;5;124;43mC:/Users/MeliaMuyo/Desktop/ALL/GIRAY/premiership/premier_league_analysis/\u001b[39;49m\u001b[38;5;124;43m'\u001b[39;49m\u001b[43m)\u001b[49m\u001b[43m,\u001b[49m\u001b[38;5;124;43m'\u001b[39;49m\u001b[38;5;124;43mArsenal\u001b[39;49m\u001b[38;5;124;43m'\u001b[39;49m\u001b[43m,\u001b[49m\u001b[38;5;124;43m'\u001b[39;49m\u001b[38;5;124;43mBen White\u001b[39;49m\u001b[38;5;124;43m'\u001b[39;49m\u001b[43m)\u001b[49m\n",
      "\u001b[1;31mTypeError\u001b[0m: shot_accuracy() takes 1 positional argument but 4 were given"
     ]
    }
   ],
   "source": [
    "baban.shot_accuracy"
   ]
  },
  {
   "cell_type": "code",
   "execution_count": 2,
   "metadata": {},
   "outputs": [
    {
     "name": "stdout",
     "output_type": "stream",
     "text": [
      "C:/Users/MeliaMuyo/Desktop/ALL/GIRAY/premiership/premier_league_analysis\\epl_2022_2023_07_02_2023.json\n"
     ]
    }
   ],
   "source": [
    "dede = stats_finder.line_ups(dat.read_df_json('C:/Users/MeliaMuyo/Desktop/ALL/GIRAY/premiership/premier_league_analysis/'),'Arsenal','Ben White')"
   ]
  },
  {
   "cell_type": "code",
   "execution_count": 3,
   "metadata": {},
   "outputs": [
    {
     "data": {
      "text/plain": [
       "20"
      ]
     },
     "execution_count": 3,
     "metadata": {},
     "output_type": "execute_result"
    }
   ],
   "source": [
    "dede.line_up_count()"
   ]
  }
 ],
 "metadata": {
  "kernelspec": {
   "display_name": "Python 3.8.8 32-bit",
   "language": "python",
   "name": "python3"
  },
  "language_info": {
   "codemirror_mode": {
    "name": "ipython",
    "version": 3
   },
   "file_extension": ".py",
   "mimetype": "text/x-python",
   "name": "python",
   "nbconvert_exporter": "python",
   "pygments_lexer": "ipython3",
   "version": "3.8.8"
  },
  "orig_nbformat": 4,
  "vscode": {
   "interpreter": {
    "hash": "c20fde216d2155112c50961c43343037d5dc4859966493adc092aeb7349463d9"
   }
  }
 },
 "nbformat": 4,
 "nbformat_minor": 2
}
