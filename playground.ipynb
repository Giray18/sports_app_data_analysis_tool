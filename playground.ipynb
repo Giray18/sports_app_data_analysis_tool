{
 "cells": [
  {
   "cell_type": "code",
   "execution_count": 1,
   "metadata": {},
   "outputs": [],
   "source": [
    "import pandas as pd\n",
    "import numpy as np\n",
    "import json\n",
    "import re\n",
    "import dat\n",
    "from collections import defaultdict\n",
    "import stats_finder"
   ]
  },
  {
   "cell_type": "code",
   "execution_count": 2,
   "metadata": {},
   "outputs": [],
   "source": [
    "df = dat.read_df_json('C:/Users/MeliaMuyo/Desktop/ALL/GIRAY/premiership/premier_league_analysis/')\n",
    "# df = df.transpose()\n",
    "team = 'Arsenal'.lower()\n",
    "player = 'Ben White'.lower()"
   ]
  },
  {
   "cell_type": "code",
   "execution_count": 3,
   "metadata": {},
   "outputs": [],
   "source": [
    "# game_ids = df.index.to_list()\n",
    "# home_game_starts = [df[\"team1_startings\"][game_id] for game_id in game_ids]\n",
    "# away_game_starts = [df[\"team2_startings\"][game_id] for game_id in game_ids]\n",
    "# home_game_starts.extend(away_game_starts)\n",
    "# d = defaultdict(int)\n",
    "# for starts in home_game_starts:\n",
    "#     for i in starts:\n",
    "#         d[i] += 1\n",
    "# sorted(d.items(), key=lambda item: item[1], reverse=True)[:10]\n",
    "\n"
   ]
  },
  {
   "cell_type": "code",
   "execution_count": 4,
   "metadata": {},
   "outputs": [],
   "source": [
    "# game_ids = df.index.to_list()\n",
    "# pattern_player = re.compile(rf\"{player}\", re.IGNORECASE)\n",
    "# # Getting team match results and team scores in matches\n",
    "\n",
    "# home_game_starts = [df[\"team1_startings\"][game_id] for game_id in game_ids if player in df['team1_startings'][game_id]]\n",
    "# # home_game_starts = list(map(lambda x: x.lower(), home_game_starts))\n",
    "# home_game_starts = sum([i.count(player) for i in home_game_starts])\n",
    "# away_game_starts = [df[\"team2_startings\"][game_id] for game_id in game_ids if player in df['team2_startings'][game_id]]\n",
    "# # away_game_starts = list(map(lambda x: x.lower(), away_game_starts))\n",
    "# away_game_starts = sum([i.count(player) for i in away_game_starts])\n",
    "# total_line_ups = home_game_starts + away_game_starts\n",
    "# # for games in team_scores:\n",
    "# #     for goal_num in games:\n",
    "# #         goals += int(goal_num)"
   ]
  },
  {
   "cell_type": "code",
   "execution_count": 5,
   "metadata": {},
   "outputs": [],
   "source": [
    "# print(total_line_ups)"
   ]
  },
  {
   "cell_type": "code",
   "execution_count": 6,
   "metadata": {},
   "outputs": [],
   "source": [
    "# shots = 0\n",
    "#     # Looping through team scores to sum team scores in games\n",
    "# for g_shots in home_game_shoots:\n",
    "#     shots += g_shots"
   ]
  },
  {
   "cell_type": "code",
   "execution_count": 7,
   "metadata": {},
   "outputs": [],
   "source": [
    "baban = stats_finder.goal_analyzer(dat.read_df_json('C:/Users/MeliaMuyo/Desktop/ALL/GIRAY/premiership/premier_league_analysis/'),'Arsenal')"
   ]
  },
  {
   "cell_type": "code",
   "execution_count": 8,
   "metadata": {},
   "outputs": [
    {
     "data": {
      "text/plain": [
       "45"
      ]
     },
     "execution_count": 8,
     "metadata": {},
     "output_type": "execute_result"
    }
   ],
   "source": [
    "baban.total_goals()"
   ]
  },
  {
   "cell_type": "code",
   "execution_count": 9,
   "metadata": {},
   "outputs": [
    {
     "data": {
      "text/plain": [
       "'7.87%'"
      ]
     },
     "execution_count": 9,
     "metadata": {},
     "output_type": "execute_result"
    }
   ],
   "source": [
    "baban.total_goal_perc()"
   ]
  },
  {
   "cell_type": "code",
   "execution_count": 10,
   "metadata": {},
   "outputs": [
    {
     "data": {
      "text/plain": [
       "206"
      ]
     },
     "execution_count": 10,
     "metadata": {},
     "output_type": "execute_result"
    }
   ],
   "source": [
    "baban.total_shots()"
   ]
  },
  {
   "cell_type": "code",
   "execution_count": 11,
   "metadata": {},
   "outputs": [
    {
     "data": {
      "text/plain": [
       "'21.84%'"
      ]
     },
     "execution_count": 11,
     "metadata": {},
     "output_type": "execute_result"
    }
   ],
   "source": [
    "baban.shot_accuracy()"
   ]
  },
  {
   "cell_type": "code",
   "execution_count": 12,
   "metadata": {},
   "outputs": [],
   "source": [
    "dede = stats_finder.line_ups(dat.read_df_json('C:/Users/MeliaMuyo/Desktop/ALL/GIRAY/premiership/premier_league_analysis/'),'Arsenal','Ben White')"
   ]
  },
  {
   "cell_type": "code",
   "execution_count": 13,
   "metadata": {},
   "outputs": [
    {
     "data": {
      "text/plain": [
       "20"
      ]
     },
     "execution_count": 13,
     "metadata": {},
     "output_type": "execute_result"
    }
   ],
   "source": [
    "dede.line_up_count()"
   ]
  },
  {
   "cell_type": "code",
   "execution_count": 14,
   "metadata": {},
   "outputs": [
    {
     "data": {
      "text/plain": [
       "[('harry kane', 22),\n",
       " ('tim ream', 22),\n",
       " ('andreas pereira', 22),\n",
       " ('james tarkowski', 21),\n",
       " ('vitaliy mykolenko', 21),\n",
       " ('alex iwobi', 21),\n",
       " ('danny ward', 21),\n",
       " ('david de gea', 21),\n",
       " ('david raya', 21),\n",
       " ('mathias jensen', 21)]"
      ]
     },
     "execution_count": 14,
     "metadata": {},
     "output_type": "execute_result"
    }
   ],
   "source": [
    "dede.top_10_lineupers()"
   ]
  }
 ],
 "metadata": {
  "kernelspec": {
   "display_name": "Python 3.8.8 32-bit",
   "language": "python",
   "name": "python3"
  },
  "language_info": {
   "codemirror_mode": {
    "name": "ipython",
    "version": 3
   },
   "file_extension": ".py",
   "mimetype": "text/x-python",
   "name": "python",
   "nbconvert_exporter": "python",
   "pygments_lexer": "ipython3",
   "version": "3.8.8"
  },
  "orig_nbformat": 4,
  "vscode": {
   "interpreter": {
    "hash": "c20fde216d2155112c50961c43343037d5dc4859966493adc092aeb7349463d9"
   }
  }
 },
 "nbformat": 4,
 "nbformat_minor": 2
}
